{
 "cells": [
  {
   "cell_type": "code",
   "execution_count": 10,
   "id": "a715a54f",
   "metadata": {},
   "outputs": [
    {
     "data": {
      "text/plain": [
       "state_ut                                                                                                           0.000000\n",
       "year                                                                                                               0.000000\n",
       "01_District_wise_crimes_committed_IPC_2001_2012_total_ipc_crimes                                                  15.975780\n",
       "01_District_wise_crimes_committed_IPC_2013_total_ipc_crimes                                                       92.333489\n",
       "17_Crime_by_place_of_occurrence_2001_2012_total_-_dacoity                                                         17.279925\n",
       "17_Crime_by_place_of_occurrence_2001_2012_total_-_robbery                                                         17.279925\n",
       "17_Crime_by_place_of_occurrence_2001_2012_total_-_burglary                                                        17.279925\n",
       "17_Crime_by_place_of_occurrence_2001_2012_total_-_theft                                                           17.279925\n",
       "17_Crime_by_place_of_occurrence_2013_total_-_dacoity                                                              92.305543\n",
       "17_Crime_by_place_of_occurrence_2013_total_-_robbery                                                              92.305543\n",
       "17_Crime_by_place_of_occurrence_2013_total_-_burglary                                                             92.305543\n",
       "17_Crime_by_place_of_occurrence_2013_total_-_theft                                                                92.305543\n",
       "17_Crime_by_place_of_occurrence_2014_total_dacoity_cases_reported                                                 92.203074\n",
       "17_Crime_by_place_of_occurrence_2014_total_dacoity_value_of_property_stolen                                       92.203074\n",
       "17_Crime_by_place_of_occurrence_2014_total_robbery_cases_reported                                                 92.203074\n",
       "17_Crime_by_place_of_occurrence_2014_total_robbery_value_of_property_stolen                                       92.203074\n",
       "17_Crime_by_place_of_occurrence_2014_total_burglary_cases_reported                                                92.203074\n",
       "17_Crime_by_place_of_occurrence_2014_total_burglary_value_of_property_stolen                                      92.203074\n",
       "17_Crime_by_place_of_occurrence_2014_total_theft_cases_reported                                                   92.203074\n",
       "17_Crime_by_place_of_occurrence_2014_total_theft_value_of_property_stolen                                         92.203074\n",
       "42_District_wise_crimes_committed_against_women_2014_kidnapping_&_abduction_total                                 92.203074\n",
       "42_District_wise_crimes_committed_against_women_2014_assault_on_women_with_intent_to_outrage_her_modesty_total    92.203074\n",
       "42_District_wise_crimes_committed_against_women_2014_insult_to_the_modesty_of_women_total                         92.203074\n",
       "42_District_wise_crimes_committed_against_women_2014_dacoity_total                                                92.203074\n",
       "42_District_wise_crimes_committed_against_women_2014_total_crimes_against_women                                   92.203074\n",
       "dtype: float64"
      ]
     },
     "execution_count": 10,
     "metadata": {},
     "output_type": "execute_result"
    }
   ],
   "source": [
    "df.isnull().sum()\n",
    "df.isnull().mean() * 100  # Percentage of nulls\n"
   ]
  },
  {
   "cell_type": "code",
   "execution_count": null,
   "id": "aacefbb6",
   "metadata": {},
   "outputs": [],
   "source": [
    "\"Dropping columns with more than 60% null values\"\n",
    "threshold = 60  # percentage\n",
    "cols_to_drop = df.columns[df.isnull().mean() * 100 > threshold]\n",
    "df.drop(columns=cols_to_drop, inplace=True)\n"
   ]
  },
  {
   "cell_type": "code",
   "execution_count": 13,
   "id": "ba652d95",
   "metadata": {},
   "outputs": [],
   "source": [
    "for col in num_cols:\n",
    "    df[col] = df[col].fillna(df[col].median())\n",
    "\n",
    "# Filling missing values in numerical columns with median"
   ]
  },
  {
   "cell_type": "code",
   "execution_count": 9,
   "id": "0e164724",
   "metadata": {},
   "outputs": [],
   "source": [
    "df = pd.read_csv('crime_merged.csv')"
   ]
  },
  {
   "cell_type": "code",
   "execution_count": 8,
   "id": "cf7855c9",
   "metadata": {},
   "outputs": [],
   "source": [
    "import pandas as pd \n",
    "import numpy as np"
   ]
  }
 ],
 "metadata": {
  "kernelspec": {
   "display_name": "venv",
   "language": "python",
   "name": "python3"
  },
  "language_info": {
   "codemirror_mode": {
    "name": "ipython",
    "version": 3
   },
   "file_extension": ".py",
   "mimetype": "text/x-python",
   "name": "python",
   "nbconvert_exporter": "python",
   "pygments_lexer": "ipython3",
   "version": "3.13.7"
  }
 },
 "nbformat": 4,
 "nbformat_minor": 5
}
