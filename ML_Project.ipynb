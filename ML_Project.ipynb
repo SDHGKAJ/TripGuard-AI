{
 "cells": [
  {
   "cell_type": "code",
   "execution_count": 2,
   "id": "2afaf380",
   "metadata": {},
   "outputs": [],
   "source": [
    "import pandas as pd\n",
    "from sklearn.model_selection import train_test_split\n",
    "from sklearn.linear_model import LinearRegression\n",
    "from sklearn.metrics import r2_score, mean_absolute_error"
   ]
  },
  {
   "cell_type": "code",
   "execution_count": 3,
   "id": "000984c9",
   "metadata": {},
   "outputs": [],
   "source": [
    "csv_air = pd.read_csv('Air_Quality_Index.csv')\n",
    "csv_road = pd.read_csv('Road_Condition_Compressed.csv')\n",
    "csv_crime = pd.read_csv('crime_filtered.csv')"
   ]
  },
  {
   "cell_type": "code",
   "execution_count": 4,
   "id": "c230f134",
   "metadata": {},
   "outputs": [
    {
     "name": "stdout",
     "output_type": "stream",
     "text": [
      "               region  air_quality_PM2.5  air_quality_PM10\n",
      "0       A & N ISLANDS           3.400000          6.000000\n",
      "1      ANDHRA PRADESH          19.714706         22.944118\n",
      "2   ARUNACHAL PRADESH           2.500000          2.850000\n",
      "3               ASSAM          31.047826         34.691304\n",
      "4               BIHAR          43.379310         51.458621\n",
      "5          CHANDIGARH         140.200000        159.900000\n",
      "6        CHHATTISGARH          21.532258         25.396774\n",
      "7        D & N HAVELI           9.900000         17.600000\n",
      "8         DAMAN & DIU          12.150000         23.300000\n",
      "9               DELHI          30.900000        116.800000\n",
      "10                GOA           4.900000          6.100000\n",
      "11            GUJARAT          12.221739         23.756522\n",
      "12            HARYANA          46.630000        135.230000\n",
      "13   HIMACHAL PRADESH          24.680000         28.640000\n",
      "14  JAMMU AND KASHMIR          29.015000         37.005000\n",
      "15          JHARKHAND          32.705556         41.194444\n",
      "16          KARNATAKA           1.924000          3.356000\n",
      "17             KERALA           6.700000         11.250000\n",
      "18        LAKSHADWEEP           4.500000         11.700000\n",
      "19     MADHYA PRADESH          13.660417         18.933333\n",
      "20        MAHARASHTRA          10.306061         14.293939\n",
      "21            MANIPUR           2.744444          3.811111\n",
      "22            MIZORAM           7.014286          7.300000\n",
      "23           NAGALAND           5.733333          6.783333\n",
      "24             ORISSA          51.835714         58.014286\n",
      "25         PUDUCHERRY          10.100000         13.700000\n",
      "26             PUNJAB          83.284211        119.831579\n",
      "27          RAJASTHAN          18.332432         59.583784\n",
      "28         TAMIL NADU           5.478571          8.407143\n",
      "29            TRIPURA          18.150000         19.850000\n",
      "30      UTTAR PRADESH          44.966129         70.080645\n",
      "31        UTTARAKHAND          40.136364         46.136364\n",
      "32        WEST BENGAL         104.991304        125.282609\n"
     ]
    }
   ],
   "source": [
    "air_cols_to_read = ['region','air_quality_PM2.5','air_quality_PM10']\n",
    "df_air_raw = pd.read_csv('Air_Quality_Index.csv', usecols=air_cols_to_read)\n",
    "df_air_raw['region'] = df_air_raw['region'].str.upper().str.strip()\n",
    "name_corrections = {    \n",
    "    'ANDAMAN AND NICOBAR ISLANDS' : 'A & N ISLANDS',\n",
    "    'DADRA AND NAGAR HAVELI' : 'D & N HAVELI',\n",
    "    'DAMAN AND DIU' : 'DAMAN & DIU'\n",
    "}\n",
    "df_air_raw['region'] = df_air_raw['region'].replace(name_corrections)\n",
    "df_air = df_air_raw.groupby('region').mean().reset_index()\n",
    "df_air['region'] = df_air['region'].str.upper()\n",
    "print(df_air)\n"
   ]
  },
  {
   "cell_type": "code",
   "execution_count": 5,
   "id": "26521334",
   "metadata": {},
   "outputs": [
    {
     "name": "stdout",
     "output_type": "stream",
     "text": [
      "               region  total_accidents\n",
      "0      ANDHRA PRADESH          14128.0\n",
      "1   ARUNACHAL PRADESH            109.0\n",
      "2               ASSAM           4965.0\n",
      "3               BIHAR           6484.0\n",
      "4        CHHATTISGARH           7362.0\n",
      "5                 GOA           3810.0\n",
      "6             GUJARAT          18402.0\n",
      "7             HARYANA           7972.0\n",
      "8    HIMACHAL PRADESH            818.0\n",
      "9     JAMMU & KASHMIR           2395.0\n",
      "10          JHARKHAND           3308.0\n",
      "11          KARNATAKA          32056.0\n",
      "12             KERALA          33448.0\n",
      "13     MADHYA PRADESH          41665.0\n",
      "14        MAHARASHTRA          49385.0\n",
      "15            MANIPUR            229.0\n",
      "16          MEGHALAYA            542.0\n",
      "17            MIZORAM             13.0\n",
      "18           NAGALAND            249.0\n",
      "19             ORISSA           6456.0\n",
      "20             PUNJAB           5728.0\n",
      "21          RAJASTHAN          24296.0\n",
      "22             SIKKIM             44.0\n",
      "23         TAMIL NADU          49992.0\n",
      "24          TELANGANA          10228.0\n",
      "25            TRIPURA            606.0\n",
      "26        UTTARAKHAND            850.0\n",
      "27      UTTAR PRADESH          20800.0\n",
      "28        WEST BENGAL           5165.0\n",
      "29      A & N ISLANDS            218.0\n",
      "30         CHANDIGARH            369.0\n",
      "31       D & N HAVELI             87.0\n",
      "32        DAMAN & DIU             39.0\n",
      "33              DELHI              NaN\n",
      "34        LAKSHADWEEP              0.0\n",
      "35         PUDUCHERRY           1037.0\n",
      "36              TOTAL         353255.0\n"
     ]
    },
    {
     "name": "stderr",
     "output_type": "stream",
     "text": [
      "C:\\Users\\kaush\\AppData\\Local\\Temp\\ipykernel_29644\\1312296171.py:4: SettingWithCopyWarning: \n",
      "A value is trying to be set on a copy of a slice from a DataFrame.\n",
      "Try using .loc[row_indexer,col_indexer] = value instead\n",
      "\n",
      "See the caveats in the documentation: https://pandas.pydata.org/pandas-docs/stable/user_guide/indexing.html#returning-a-view-versus-a-copy\n",
      "  df_road['region'] = df_road['region'].str.upper().str.strip()\n"
     ]
    }
   ],
   "source": [
    "csv_road.rename(columns={'State/ UT': 'region'}, inplace=True)\n",
    "csv_road['total_accidents'] = csv_road['Surfaced Roads-Accident - 2014'] + csv_road['Rutted/Pot holes-Accident - 2014']\n",
    "df_road = csv_road[['region', 'total_accidents']]\n",
    "df_road['region'] = df_road['region'].str.upper().str.strip()\n",
    "print(df_road)\n"
   ]
  },
  {
   "cell_type": "code",
   "execution_count": 6,
   "id": "0170c3e3",
   "metadata": {},
   "outputs": [
    {
     "name": "stdout",
     "output_type": "stream",
     "text": [
      "               region  total_crimes\n",
      "0       A & N ISLANDS        1592.0\n",
      "1      ANDHRA PRADESH      410537.0\n",
      "2   ARUNACHAL PRADESH        5215.0\n",
      "3               ASSAM      164868.0\n",
      "4               BIHAR      314069.0\n",
      "5          CHANDIGARH        8008.0\n",
      "6        CHHATTISGARH      114088.0\n",
      "7        D & N HAVELI         756.0\n",
      "8         DAMAN & DIU         534.0\n",
      "9            DELHI UT      138147.0\n",
      "10                GOA        7920.0\n",
      "11            GUJARAT      287556.0\n",
      "12            HARYANA      134578.0\n",
      "13   HIMACHAL PRADESH       28062.0\n",
      "14    JAMMU & KASHMIR       49998.0\n",
      "15          JHARKHAND       89154.0\n",
      "16          KARNATAKA      279011.0\n",
      "17             KERALA      348471.0\n",
      "18        LAKSHADWEEP         174.0\n",
      "19     MADHYA PRADESH      447788.0\n",
      "20        MAHARASHTRA      442553.0\n",
      "21            MANIPUR        6915.0\n",
      "22          MEGHALAYA        6014.0\n",
      "23            MIZORAM        5165.0\n",
      "24           NAGALAND        2450.0\n",
      "25             ODISHA      139675.0\n",
      "26         PUDUCHERRY        8810.0\n",
      "27             PUNJAB       73315.0\n",
      "28          RAJASTHAN      367172.0\n",
      "29             SIKKIM        1581.0\n",
      "30         TAMIL NADU      404053.0\n",
      "31          TELANGANA           0.0\n",
      "32  TOTAL (ALL INDIA)           0.0\n",
      "33  TOTAL (ALL-INDIA)           0.0\n",
      "34      TOTAL (STATE)           0.0\n",
      "35     TOTAL (STATES)           0.0\n",
      "36        TOTAL (UTS)           0.0\n",
      "37            TRIPURA       12474.0\n",
      "38      UTTAR PRADESH      424538.0\n",
      "39        UTTARAKHAND       19145.0\n",
      "40        WEST BENGAL      330962.0\n"
     ]
    },
    {
     "name": "stderr",
     "output_type": "stream",
     "text": [
      "C:\\Users\\kaush\\AppData\\Local\\Temp\\ipykernel_29644\\1805719011.py:15: SettingWithCopyWarning: \n",
      "A value is trying to be set on a copy of a slice from a DataFrame\n",
      "\n",
      "See the caveats in the documentation: https://pandas.pydata.org/pandas-docs/stable/user_guide/indexing.html#returning-a-view-versus-a-copy\n",
      "  df_crime_agg.rename(columns={'state_ut': 'region'}, inplace=True)\n",
      "C:\\Users\\kaush\\AppData\\Local\\Temp\\ipykernel_29644\\1805719011.py:16: SettingWithCopyWarning: \n",
      "A value is trying to be set on a copy of a slice from a DataFrame.\n",
      "Try using .loc[row_indexer,col_indexer] = value instead\n",
      "\n",
      "See the caveats in the documentation: https://pandas.pydata.org/pandas-docs/stable/user_guide/indexing.html#returning-a-view-versus-a-copy\n",
      "  df_crime_agg['region'] = df_crime_agg['region'].str.title()\n",
      "C:\\Users\\kaush\\AppData\\Local\\Temp\\ipykernel_29644\\1805719011.py:17: SettingWithCopyWarning: \n",
      "A value is trying to be set on a copy of a slice from a DataFrame.\n",
      "Try using .loc[row_indexer,col_indexer] = value instead\n",
      "\n",
      "See the caveats in the documentation: https://pandas.pydata.org/pandas-docs/stable/user_guide/indexing.html#returning-a-view-versus-a-copy\n",
      "  df_crime_agg['region'] = df_crime_agg['region'].str.upper().str.strip()\n"
     ]
    }
   ],
   "source": [
    "csv_crime['state_ut'] = csv_crime['state_ut'].str.upper()\n",
    "name_corrections = {\n",
    "    'UTTARAKHAND': 'UTTARAKHAND',\n",
    "    'UTTARPRADESH': 'UTTAR PRADESH'\n",
    "}\n",
    "csv_crime['state_ut'] = csv_crime['state_ut'].replace(name_corrections)\n",
    "crime_cols = [\n",
    "    '01_District_wise_crimes_committed_IPC_2001_2012_total_ipc_crimes',\n",
    "    '01_District_wise_crimes_committed_IPC_2013_total_ipc_crimes'\n",
    "]\n",
    "csv_crime[crime_cols] = csv_crime[crime_cols].fillna(0)\n",
    "df_maxes = csv_crime.groupby('state_ut')[crime_cols].max().reset_index()\n",
    "df_maxes['total_crimes'] = df_maxes[crime_cols[0]] + df_maxes[crime_cols[1]]\n",
    "df_crime_agg = df_maxes[['state_ut', 'total_crimes']]\n",
    "df_crime_agg.rename(columns={'state_ut': 'region'}, inplace=True)\n",
    "df_crime_agg['region'] = df_crime_agg['region'].str.title()\n",
    "df_crime_agg['region'] = df_crime_agg['region'].str.upper().str.strip()\n",
    "print(df_crime_agg)\n",
    "\n"
   ]
  },
  {
   "cell_type": "code",
   "execution_count": 7,
   "id": "9805e940",
   "metadata": {},
   "outputs": [
    {
     "name": "stdout",
     "output_type": "stream",
     "text": [
      "\n",
      "==================================================\n",
      "✅ --- FINAL MERGED DATASET ---\n",
      "              region  air_quality_PM2.5  air_quality_PM10  total_accidents  \\\n",
      "0      A & N ISLANDS           3.400000          6.000000            218.0   \n",
      "1     ANDHRA PRADESH          19.714706         22.944118          14128.0   \n",
      "2  ARUNACHAL PRADESH           2.500000          2.850000            109.0   \n",
      "3              ASSAM          31.047826         34.691304           4965.0   \n",
      "4              BIHAR          43.379310         51.458621           6484.0   \n",
      "\n",
      "   total_crimes  \n",
      "0        1592.0  \n",
      "1      410537.0  \n",
      "2        5215.0  \n",
      "3      164868.0  \n",
      "4      314069.0  \n"
     ]
    }
   ],
   "source": [
    "master_df = pd.merge(df_air, df_road, on=\"region\")\n",
    "master_df = pd.merge(master_df, df_crime_agg, on=\"region\")\n",
    "\n",
    "print(\"\\n\" + \"=\"*50)\n",
    "print(\"✅ --- FINAL MERGED DATASET ---\")\n",
    "print(master_df.head())"
   ]
  },
  {
   "cell_type": "code",
   "execution_count": 8,
   "id": "ae3d1663",
   "metadata": {},
   "outputs": [],
   "source": [
    "#Define Weights\n",
    "weights = {\n",
    "    'air_quality': 0.4,\n",
    "    'total_accidents': 0.3,\n",
    "    'total_crimes': 0.3\n",
    "}"
   ]
  },
  {
   "cell_type": "code",
   "execution_count": 9,
   "id": "9e59013f",
   "metadata": {},
   "outputs": [
    {
     "name": "stdout",
     "output_type": "stream",
     "text": [
      "              region  air_quality_PM2.5  air_quality_PM10  total_accidents  \\\n",
      "0      A & N ISLANDS           3.400000          6.000000            218.0   \n",
      "1     ANDHRA PRADESH          19.714706         22.944118          14128.0   \n",
      "2  ARUNACHAL PRADESH           2.500000          2.850000            109.0   \n",
      "3              ASSAM          31.047826         34.691304           4965.0   \n",
      "4              BIHAR          43.379310         51.458621           6484.0   \n",
      "\n",
      "   total_crimes   N_PM2_5    N_PM10  PollutionIndex  air_safety_score  \\\n",
      "0        1592.0  0.113333  0.120000        0.116000         88.400000   \n",
      "1      410537.0  0.657157  0.458882        0.577847         42.215294   \n",
      "2        5215.0  0.083333  0.057000        0.072800         92.720000   \n",
      "3      164868.0  1.000000  0.693826        0.877530         12.246957   \n",
      "4      314069.0  1.000000  1.000000        1.000000          0.000000   \n",
      "\n",
      "   road_score  crime_score  \n",
      "0   99.934650    99.966413  \n",
      "1   95.764861    91.338759  \n",
      "2   99.967325    99.889977  \n",
      "3   98.511646    96.521723  \n",
      "4   98.056297    93.373978  \n"
     ]
    }
   ],
   "source": [
    "master_df['N_PM2_5'] = (master_df['air_quality_PM2.5'] / 30).clip(upper=1)\n",
    "master_df['N_PM10'] = (master_df['air_quality_PM10'] / 50).clip(upper=1)\n",
    "master_df['PollutionIndex'] = 0.6 * master_df['N_PM2_5'] + 0.4 * master_df['N_PM10']\n",
    "master_df['air_safety_score'] = (1 - master_df['PollutionIndex']) * 100\n",
    "\n",
    "#Road Condition Score\n",
    "total_accidents_sum = master_df['total_accidents'].sum()\n",
    "master_df['road_score'] = (1 - (master_df['total_accidents'] / total_accidents_sum)) * 100\n",
    "\n",
    "#Crime Score\n",
    "total_crimes_sum = master_df['total_crimes'].sum()\n",
    "master_df['crime_score'] = (1 - (master_df['total_crimes'] / total_crimes_sum)) * 100\n",
    "print(master_df.head())"
   ]
  },
  {
   "cell_type": "code",
   "execution_count": 10,
   "id": "b47b1708",
   "metadata": {},
   "outputs": [
    {
     "name": "stdout",
     "output_type": "stream",
     "text": [
      "              region  air_quality_PM2.5  air_quality_PM10  total_accidents  \\\n",
      "0      A & N ISLANDS           3.400000          6.000000            218.0   \n",
      "1     ANDHRA PRADESH          19.714706         22.944118          14128.0   \n",
      "2  ARUNACHAL PRADESH           2.500000          2.850000            109.0   \n",
      "3              ASSAM          31.047826         34.691304           4965.0   \n",
      "4              BIHAR          43.379310         51.458621           6484.0   \n",
      "\n",
      "   total_crimes   N_PM2_5    N_PM10  PollutionIndex  air_safety_score  \\\n",
      "0        1592.0  0.113333  0.120000        0.116000         88.400000   \n",
      "1      410537.0  0.657157  0.458882        0.577847         42.215294   \n",
      "2        5215.0  0.083333  0.057000        0.072800         92.720000   \n",
      "3      164868.0  1.000000  0.693826        0.877530         12.246957   \n",
      "4      314069.0  1.000000  1.000000        1.000000          0.000000   \n",
      "\n",
      "   road_score  crime_score  risk_score  \n",
      "0   99.934650    99.966413   95.330319  \n",
      "1   95.764861    91.338759   73.017204  \n",
      "2   99.967325    99.889977   97.045191  \n",
      "3   98.511646    96.521723   63.408793  \n",
      "4   98.056297    93.373978   57.429082  \n"
     ]
    }
   ],
   "source": [
    "master_df['risk_score'] = (\n",
    "    (master_df['air_safety_score'] * weights['air_quality']) +\n",
    "    (master_df['road_score'] * weights['total_accidents']) +\n",
    "    (master_df['crime_score'] * weights['total_crimes'])\n",
    ")\n",
    "print(master_df.head())"
   ]
  },
  {
   "cell_type": "code",
   "execution_count": 11,
   "id": "985b1837",
   "metadata": {},
   "outputs": [
    {
     "name": "stdout",
     "output_type": "stream",
     "text": [
      "--- Model Test Results ---\n",
      "R-squared (R²) Score: 0.93\n",
      "Mean Absolute Error (MAE): 3.31\n"
     ]
    }
   ],
   "source": [
    "features = ['air_quality_PM2.5','air_quality_PM10', 'total_accidents', 'total_crimes']\n",
    "target = 'risk_score'\n",
    "X = master_df[features]\n",
    "y = master_df[target]\n",
    "\n",
    "X_train, X_test, y_train, y_test = train_test_split(X, y, test_size=0.2, random_state=42)\n",
    "\n",
    "model = LinearRegression()\n",
    "model.fit(X_train, y_train)\n",
    "\n",
    "print(\"--- Model Test Results ---\")\n",
    "\n",
    "y_pred = model.predict(X_test)\n",
    "\n",
    "\n",
    "r2 = r2_score(y_test, y_pred)\n",
    "mae = mean_absolute_error(y_test, y_pred)\n",
    "\n",
    "print(f\"R-squared (R²) Score: {r2:.2f}\")\n",
    "print(f\"Mean Absolute Error (MAE): {mae:.2f}\")"
   ]
  },
  {
   "cell_type": "code",
   "execution_count": 12,
   "id": "cb15f383",
   "metadata": {},
   "outputs": [
    {
     "name": "stdout",
     "output_type": "stream",
     "text": [
      "--- Residuals for the First 5 States ---\n",
      "              region  Actual Score  Predicted Score  Residual\n",
      "0      A & N ISLANDS         95.33            87.62      7.71\n",
      "1     ANDHRA PRADESH         73.02            67.90      5.12\n",
      "2  ARUNACHAL PRADESH         97.05            88.00      9.05\n",
      "3              ASSAM         63.41            74.58    -11.17\n",
      "4              BIHAR         57.43            63.77     -6.34\n"
     ]
    }
   ],
   "source": [
    "head_data = master_df.head()\n",
    "\n",
    "X_head = head_data[features]\n",
    "y_actual_head = head_data[target]\n",
    "\n",
    "y_predicted_head = model.predict(X_head)\n",
    "\n",
    "residuals = y_actual_head - y_predicted_head\n",
    "\n",
    "results_df = pd.DataFrame({\n",
    "    'region': head_data['region'],\n",
    "    'Actual Score': y_actual_head,\n",
    "    'Predicted Score': y_predicted_head,\n",
    "    'Residual': residuals\n",
    "})\n",
    "\n",
    "print(\"--- Residuals for the First 5 States ---\")\n",
    "print(results_df.round(2))"
   ]
  }
 ],
 "metadata": {
  "kernelspec": {
   "display_name": ".venv",
   "language": "python",
   "name": "python3"
  },
  "language_info": {
   "codemirror_mode": {
    "name": "ipython",
    "version": 3
   },
   "file_extension": ".py",
   "mimetype": "text/x-python",
   "name": "python",
   "nbconvert_exporter": "python",
   "pygments_lexer": "ipython3",
   "version": "3.11.4"
  }
 },
 "nbformat": 4,
 "nbformat_minor": 5
}
